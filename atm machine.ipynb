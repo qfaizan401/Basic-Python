{
 "cells": [
  {
   "cell_type": "code",
   "execution_count": null,
   "metadata": {},
   "outputs": [],
   "source": [
    "acc=None\n",
    "user_name='faizan.qureshi'\n",
    "pin='1234'\n",
    "print(\"Hello! Welcome to XYZ Bank\")\n",
    "user_name=input(\"Enter your USERNAME\"'\\n')\n",
    "pin=input(\"Enter your PIN\"'\\n')\n",
    "if pin=='1234' and user_name=='faizan.qureshi':\n",
    "    print(\"Do you want to WITHDRAWL or DEPOSITE your money?\"'\\n'\"-W for WITHDRAWL\"'\\n'\"-D for DEPOSITE\")\n",
    "    user=input(\"Please Enter\"'\\n')\n",
    "    if acc==None and user.lower()=='w':\n",
    "        del user\n",
    "        print(\"Please Deposite some amount in your account to Withdrawl\")\n",
    "        acc=float(input(\"Enter your amount\"'\\n'))\n",
    "        print(\"Your account balance is:\",acc,'\\n'\"Now you can use our WITHDRAWL service or you want to DEPOSITE more amount\")\n",
    "        user=input(\"-W for WITHDRAWL\"'\\n'\"-D for DEPOSITE\"'\\n'\"Please Enter\"'\\n')\n",
    "        if user.lower()=='w':\n",
    "            w_amount=float(input(\"Please enter your amount to Withdrawl\"'\\n'))\n",
    "            if w_amount<=acc:\n",
    "                print(\"You have withdrawl:Rs\",w_amount)\n",
    "                net_amount=acc-w_amount\n",
    "                print(\"Your net balance is : Rs\",net_amount)\n",
    "            else :\n",
    "                print(\"Sorry!You not not have\",w_amount,\"in your account\")\n",
    "        elif user.lower()=='d':\n",
    "            acc1=float(input(\"Enter your amount\"'\\n'))\n",
    "            print(\"Your account balance is:\",acc+acc1,'\\n'\"Now you can use our WITHDRAWL service but not DEPOSITE service\")\n",
    "            w_amount=float(input(\"Please enter your amount to Withdrawl\"'\\n'))\n",
    "            if w_amount<=acc+acc1:\n",
    "                print(\"You have withdrawl:Rs\",w_amount)\n",
    "                net_amount=(acc+acc1)-w_amount\n",
    "                print(\"Your net balance is : Rs\",net_amount)\n",
    "            else :\n",
    "                print(\"Sorry!You not not have\",w_amount,\"in your account\")\n",
    "    elif acc==None and user.lower()=='d':\n",
    "        acc=float(input(\"Enter your amount\"'\\n'))\n",
    "        print(\"Your account balance is:\",acc,'\\n'\"Now you can use our WITHDRAWL service or you want to DEPOSITE more amount\")\n",
    "        user=input(\"-W for WITHDRAWL\"'\\n'\"-D for DEPOSITE\"'\\n'\"Please Enter\"'\\n')\n",
    "        if user.lower()=='w':\n",
    "            w_amount=float(input(\"Please enter your amount to Withdrawl\"'\\n'))\n",
    "            if w_amount<=acc:\n",
    "                print(\"You have withdrawl:Rs\",w_amount)\n",
    "                net_amount=acc-w_amount\n",
    "                print(\"Your net balance is : Rs\",net_amount)\n",
    "            else :\n",
    "                print(\"Sorry!You not not have\",w_amount,\"in your account\")\n",
    "        elif user.lower()=='d':\n",
    "            acc1=float(input(\"Enter your amount\"'\\n'))\n",
    "            print(\"Your account balance is:\",acc+acc1,'\\n'\"Now you can use our WITHDRAWL service but not DEPOSITE service\")\n",
    "            w_amount=float(input(\"Please enter your amount to Withdrawl\"'\\n'))\n",
    "            if w_amount<=acc+acc1:\n",
    "                print(\"You have withdrawl:Rs\",w_amount)\n",
    "                net_amount=(acc+acc1)-w_amount\n",
    "                print(\"Your net balance is : Rs\",net_amount)\n",
    "            else :\n",
    "                print(\"Sorry!You not not have\",w_amount,\"in your account\")\n",
    "else:\n",
    "    print(\"Access Denied\")\n",
    "\n",
    "    "
   ]
  },
  {
   "cell_type": "code",
   "execution_count": null,
   "metadata": {},
   "outputs": [],
   "source": []
  },
  {
   "cell_type": "code",
   "execution_count": null,
   "metadata": {},
   "outputs": [],
   "source": []
  }
 ],
 "metadata": {
  "kernelspec": {
   "display_name": "Python 3",
   "language": "python",
   "name": "python3"
  },
  "language_info": {
   "codemirror_mode": {
    "name": "ipython",
    "version": 3
   },
   "file_extension": ".py",
   "mimetype": "text/x-python",
   "name": "python",
   "nbconvert_exporter": "python",
   "pygments_lexer": "ipython3",
   "version": "3.7.1"
  }
 },
 "nbformat": 4,
 "nbformat_minor": 2
}
