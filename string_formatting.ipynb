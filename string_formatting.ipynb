{
  "nbformat": 4,
  "nbformat_minor": 0,
  "metadata": {
    "colab": {
      "name": "string_formatting.ipynb",
      "version": "0.3.2",
      "provenance": [],
      "collapsed_sections": []
    },
    "kernelspec": {
      "name": "python3",
      "display_name": "Python 3"
    }
  },
  "cells": [
    {
      "cell_type": "markdown",
      "metadata": {
        "id": "XUIU1upUGati",
        "colab_type": "text"
      },
      "source": [
        "# **5 Methods of string formatting**"
      ]
    },
    {
      "cell_type": "code",
      "metadata": {
        "id": "O1mZbEv7FbgS",
        "colab_type": "code",
        "colab": {
          "base_uri": "https://localhost:8080/",
          "height": 34
        },
        "outputId": "292dae12-859d-4f8c-8e98-dcaa53df0408"
      },
      "source": [
        "# method 1\n",
        "x=1\n",
        "y=2\n",
        "print('the value of x is ',x,'and the value of y is ',y)"
      ],
      "execution_count": 2,
      "outputs": [
        {
          "output_type": "stream",
          "text": [
            "the value of x is  1 and the value of y is  2\n"
          ],
          "name": "stdout"
        }
      ]
    },
    {
      "cell_type": "code",
      "metadata": {
        "id": "-etJF1azGaKy",
        "colab_type": "code",
        "colab": {
          "base_uri": "https://localhost:8080/",
          "height": 34
        },
        "outputId": "213d606d-787f-47fc-d026-5e13b93e03d5"
      },
      "source": [
        "\n",
        "# method 2\n",
        "print('the value of x is '+str(x)+ ' and the value of y is '+str(y))"
      ],
      "execution_count": 3,
      "outputs": [
        {
          "output_type": "stream",
          "text": [
            "the value of x is 1 and the value of y is 2\n"
          ],
          "name": "stdout"
        }
      ]
    },
    {
      "cell_type": "code",
      "metadata": {
        "id": "W-IKinKEHUMu",
        "colab_type": "code",
        "colab": {
          "base_uri": "https://localhost:8080/",
          "height": 34
        },
        "outputId": "682f8885-0690-47df-b379-5b8dc609abdf"
      },
      "source": [
        "# method 3\n",
        "print('the value of x is %d and the value of y is %d' %(x,y))"
      ],
      "execution_count": 4,
      "outputs": [
        {
          "output_type": "stream",
          "text": [
            "the value of x is 1 and the value of y is 2\n"
          ],
          "name": "stdout"
        }
      ]
    },
    {
      "cell_type": "code",
      "metadata": {
        "id": "J2WM5_dwH_jt",
        "colab_type": "code",
        "colab": {
          "base_uri": "https://localhost:8080/",
          "height": 34
        },
        "outputId": "b4900005-bcbe-41c7-e515-d4345a29f36f"
      },
      "source": [
        "print('the value of x is %5d and the value of y is %5d' %(x,y))"
      ],
      "execution_count": 5,
      "outputs": [
        {
          "output_type": "stream",
          "text": [
            "the value of x is     1 and the value of y is     2\n"
          ],
          "name": "stdout"
        }
      ]
    },
    {
      "cell_type": "code",
      "metadata": {
        "id": "C1HGRbAqII_V",
        "colab_type": "code",
        "colab": {
          "base_uri": "https://localhost:8080/",
          "height": 34
        },
        "outputId": "e83db322-4385-4411-e4ab-0230e7f6fde7"
      },
      "source": [
        "print('the value of x is %-5d and the value of y is %-5d' %(x,y))"
      ],
      "execution_count": 6,
      "outputs": [
        {
          "output_type": "stream",
          "text": [
            "the value of x is 1     and the value of y is 2    \n"
          ],
          "name": "stdout"
        }
      ]
    },
    {
      "cell_type": "code",
      "metadata": {
        "id": "plG6-wccqsmI",
        "colab_type": "code",
        "colab": {
          "base_uri": "https://localhost:8080/",
          "height": 34
        },
        "outputId": "5f3e72c0-597c-4c09-f337-8e5db8fb9aba"
      },
      "source": [
        "# method 4\n",
        "print('the value of x is {0} and the value of y is {1}' .format(x,y))"
      ],
      "execution_count": 7,
      "outputs": [
        {
          "output_type": "stream",
          "text": [
            "the value of x is 1 and the value of y is 2\n"
          ],
          "name": "stdout"
        }
      ]
    },
    {
      "cell_type": "code",
      "metadata": {
        "id": "WVZbwgczrVIH",
        "colab_type": "code",
        "colab": {
          "base_uri": "https://localhost:8080/",
          "height": 34
        },
        "outputId": "3d31818c-fd17-4325-cb2e-c690721eab3d"
      },
      "source": [
        "# method 5\n",
        "print(f'the value of x is {x} and the value of y is {y}')"
      ],
      "execution_count": 8,
      "outputs": [
        {
          "output_type": "stream",
          "text": [
            "the value of x is 1 and the value of y is 2\n"
          ],
          "name": "stdout"
        }
      ]
    },
    {
      "cell_type": "code",
      "metadata": {
        "id": "G6jn1R5aru73",
        "colab_type": "code",
        "colab": {}
      },
      "source": [
        ""
      ],
      "execution_count": 0,
      "outputs": []
    }
  ]
}